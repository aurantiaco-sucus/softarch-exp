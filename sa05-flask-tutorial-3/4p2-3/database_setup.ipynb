{
 "cells": [
  {
   "cell_type": "code",
   "id": "initial_id",
   "metadata": {
    "collapsed": true,
    "ExecuteTime": {
     "end_time": "2024-05-13T15:25:46.367506Z",
     "start_time": "2024-05-13T15:25:46.132931Z"
    }
   },
   "source": [
    "from manage import app\n",
    "from app import db\n",
    "from app.models import *"
   ],
   "outputs": [],
   "execution_count": 1
  },
  {
   "metadata": {
    "ExecuteTime": {
     "end_time": "2024-05-13T15:25:51.154177Z",
     "start_time": "2024-05-13T15:25:51.007933Z"
    }
   },
   "cell_type": "code",
   "source": [
    "with app.app_context():\n",
    "    db.create_all()"
   ],
   "id": "9f0c66ccd988825f",
   "outputs": [],
   "execution_count": 2
  },
  {
   "metadata": {
    "ExecuteTime": {
     "end_time": "2024-05-13T08:18:11.296118Z",
     "start_time": "2024-05-13T08:18:11.250427Z"
    }
   },
   "cell_type": "code",
   "source": [
    "with app.app_context():\n",
    "    admin = Role(name='admin')\n",
    "    user = Role(name='user')\n",
    "    db.session.add_all([admin, user])\n",
    "    db.session.commit()"
   ],
   "id": "c7e5b808390b67f1",
   "execution_count": 4,
   "outputs": []
  },
  {
   "metadata": {
    "ExecuteTime": {
     "end_time": "2024-05-13T08:19:06.594835Z",
     "start_time": "2024-05-13T08:19:06.559981Z"
    }
   },
   "cell_type": "code",
   "source": [
    "with app.app_context():\n",
    "    user1 = User(name='zhangsan', password='123', role=admin)\n",
    "    db.session.add(user1)\n",
    "    db.session.commit()"
   ],
   "id": "e44ede37cf9d7e68",
   "execution_count": 5,
   "outputs": []
  },
  {
   "metadata": {
    "ExecuteTime": {
     "end_time": "2024-05-13T08:21:59.797222Z",
     "start_time": "2024-05-13T08:21:59.776685Z"
    }
   },
   "cell_type": "code",
   "source": [
    "with app.app_context():\n",
    "    user1.password = '456'\n",
    "    db.session.add(user1)\n",
    "    db.session.commit()"
   ],
   "id": "99bb926abab2bc06",
   "execution_count": 7,
   "outputs": []
  },
  {
   "metadata": {
    "ExecuteTime": {
     "end_time": "2024-05-13T08:22:00.763274Z",
     "start_time": "2024-05-13T08:22:00.735726Z"
    }
   },
   "cell_type": "code",
   "source": [
    "with app.app_context():\n",
    "    db.session.delete(user1)\n",
    "    db.session.commit()"
   ],
   "id": "6c16954e1022ed55",
   "execution_count": 8,
   "outputs": []
  },
  {
   "metadata": {
    "ExecuteTime": {
     "end_time": "2024-05-13T08:22:01.881385Z",
     "start_time": "2024-05-13T08:22:01.859563Z"
    }
   },
   "cell_type": "code",
   "source": [
    "with app.app_context():\n",
    "    user2 = User(name='lisi', password='444', role=admin)\n",
    "    db.session.add(user2)\n",
    "    user3 = User(name='wangwu', password='555', role=user)\n",
    "    db.session.add(user3)\n",
    "    user4 = User(name='zhaoliu', password='666', role=user)\n",
    "    db.session.add(user4)\n",
    "    db.session.commit()"
   ],
   "id": "c636b26f60878780",
   "execution_count": 9,
   "outputs": []
  },
  {
   "metadata": {
    "ExecuteTime": {
     "end_time": "2024-05-13T08:22:13.016402Z",
     "start_time": "2024-05-13T08:22:13.009412Z"
    }
   },
   "cell_type": "code",
   "source": [
    "with app.app_context():\n",
    "    print(User.query.all())"
   ],
   "id": "8f58cef9d850b32f",
   "execution_count": 12,
   "outputs": []
  },
  {
   "metadata": {
    "ExecuteTime": {
     "end_time": "2024-05-13T08:22:50.406955Z",
     "start_time": "2024-05-13T08:22:50.399251Z"
    }
   },
   "cell_type": "code",
   "source": [
    "with app.app_context():\n",
    "    print(User.query.get(2))"
   ],
   "id": "f884c0b7430f6f1d",
   "execution_count": 15,
   "outputs": []
  },
  {
   "metadata": {
    "ExecuteTime": {
     "end_time": "2024-05-13T08:23:10.727254Z",
     "start_time": "2024-05-13T08:23:10.719473Z"
    }
   },
   "cell_type": "code",
   "source": [
    "with app.app_context():\n",
    "    print(Role.query.get(1).name)"
   ],
   "id": "bafcc2e09b146956",
   "execution_count": 16,
   "outputs": []
  },
  {
   "metadata": {
    "ExecuteTime": {
     "end_time": "2024-05-13T08:24:36.906067Z",
     "start_time": "2024-05-13T08:24:36.884325Z"
    }
   },
   "cell_type": "code",
   "source": [
    "with app.app_context():\n",
    "    print(User.query.filter(User.id == 2).all())\n",
    "    print(User.query.filter(User.id > 2).all())\n",
    "    print(User.query.filter(User.name == 'lisi').all())\n",
    "    print(User.query.filter(User.name != 'lisi').all())"
   ],
   "id": "d1ed67d4eb08aacb",
   "execution_count": 18,
   "outputs": []
  },
  {
   "metadata": {
    "ExecuteTime": {
     "end_time": "2024-05-13T08:25:05.702350Z",
     "start_time": "2024-05-13T08:25:05.692794Z"
    }
   },
   "cell_type": "code",
   "source": [
    "with app.app_context():\n",
    "    print(User.query.filter(User.name.like('wang%')).all())"
   ],
   "id": "b3f3b9cda13b02aa",
   "execution_count": 19,
   "outputs": []
  },
  {
   "metadata": {
    "ExecuteTime": {
     "end_time": "2024-05-13T08:25:33.060415Z",
     "start_time": "2024-05-13T08:25:33.045853Z"
    }
   },
   "cell_type": "code",
   "source": [
    "with app.app_context():\n",
    "    print(User.query.filter(User.name.in_(['zhangsan', 'lisi'])).all())\n",
    "    print(User.query.filter(~User.name.in_(['zhangsan', 'lisi'])).all())"
   ],
   "id": "fd948ff8e4537ac8",
   "execution_count": 20,
   "outputs": []
  },
  {
   "metadata": {
    "ExecuteTime": {
     "end_time": "2024-05-13T08:26:55.679695Z",
     "start_time": "2024-05-13T08:26:55.665010Z"
    }
   },
   "cell_type": "code",
   "source": [
    "with app.app_context():\n",
    "    print(User.query.filter(User.id > 2).filter(User.id < 4).all())\n",
    "    print(User.query.filter(User.id > 2, User.id < 4).all())\n",
    "    from sqlalchemy import and_\n",
    "    print(User.query.filter(and_(User.id > 2, User.id < 4)).all())"
   ],
   "id": "bd25adcccab16a9d",
   "execution_count": 21,
   "outputs": []
  },
  {
   "metadata": {
    "ExecuteTime": {
     "end_time": "2024-05-13T08:26:56.965273Z",
     "start_time": "2024-05-13T08:26:56.954758Z"
    }
   },
   "cell_type": "code",
   "source": [
    "with app.app_context():\n",
    "    from sqlalchemy import or_\n",
    "    print(User.query.filter(or_(User.id > 3, User.id < 3)).all())"
   ],
   "id": "eb1ecc08abf9f77f",
   "execution_count": 22,
   "outputs": []
  },
  {
   "metadata": {
    "ExecuteTime": {
     "end_time": "2024-05-13T08:27:40.567109Z",
     "start_time": "2024-05-13T08:27:40.547792Z"
    }
   },
   "cell_type": "code",
   "source": [
    "with app.app_context():\n",
    "    print(db.session.query(User).all())\n",
    "    print(db.session.query(User.name).all())\n",
    "    print(db.session.query(User.name).filter(User.name=='wangwu').all())\n",
    "    print(db.session.query(User.name).filter(User.id > 2).all())"
   ],
   "id": "8117a1ddb0d541d",
   "execution_count": 23,
   "outputs": []
  }
 ],
 "metadata": {
  "kernelspec": {
   "display_name": "Python 3",
   "language": "python",
   "name": "python3"
  },
  "language_info": {
   "codemirror_mode": {
    "name": "ipython",
    "version": 2
   },
   "file_extension": ".py",
   "mimetype": "text/x-python",
   "name": "python",
   "nbconvert_exporter": "python",
   "pygments_lexer": "ipython2",
   "version": "2.7.6"
  }
 },
 "nbformat": 4,
 "nbformat_minor": 5
}
