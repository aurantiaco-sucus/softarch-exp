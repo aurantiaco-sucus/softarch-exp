{
 "cells": [
  {
   "cell_type": "code",
   "id": "initial_id",
   "metadata": {
    "collapsed": true,
    "ExecuteTime": {
     "end_time": "2024-05-13T08:18:08.549439Z",
     "start_time": "2024-05-13T08:18:08.545345Z"
    }
   },
   "source": [
    "from manage import app\n",
    "from app import db\n",
    "from app.models import *"
   ],
   "outputs": [],
   "execution_count": 3
  },
  {
   "metadata": {
    "ExecuteTime": {
     "end_time": "2024-05-13T08:16:35.862641Z",
     "start_time": "2024-05-13T08:16:35.562028Z"
    }
   },
   "cell_type": "code",
   "source": [
    "with app.app_context():\n",
    "    db.create_all()"
   ],
   "id": "9f0c66ccd988825f",
   "outputs": [],
   "execution_count": 2
  },
  {
   "metadata": {
    "ExecuteTime": {
     "end_time": "2024-05-13T08:18:11.296118Z",
     "start_time": "2024-05-13T08:18:11.250427Z"
    }
   },
   "cell_type": "code",
   "source": [
    "with app.app_context():\n",
    "    admin = Role(name='admin')\n",
    "    user = Role(name='user')\n",
    "    db.session.add_all([admin, user])\n",
    "    db.session.commit()"
   ],
   "id": "c7e5b808390b67f1",
   "outputs": [],
   "execution_count": 4
  },
  {
   "metadata": {
    "ExecuteTime": {
     "end_time": "2024-05-13T08:19:06.594835Z",
     "start_time": "2024-05-13T08:19:06.559981Z"
    }
   },
   "cell_type": "code",
   "source": [
    "with app.app_context():\n",
    "    user1 = User(name='zhangsan', password='123', role=admin)\n",
    "    db.session.add(user1)\n",
    "    db.session.commit()"
   ],
   "id": "e44ede37cf9d7e68",
   "outputs": [],
   "execution_count": 5
  },
  {
   "metadata": {
    "ExecuteTime": {
     "end_time": "2024-05-13T08:21:59.797222Z",
     "start_time": "2024-05-13T08:21:59.776685Z"
    }
   },
   "cell_type": "code",
   "source": [
    "with app.app_context():\n",
    "    user1.password = '456'\n",
    "    db.session.add(user1)\n",
    "    db.session.commit()"
   ],
   "id": "99bb926abab2bc06",
   "outputs": [],
   "execution_count": 7
  },
  {
   "metadata": {
    "ExecuteTime": {
     "end_time": "2024-05-13T08:22:00.763274Z",
     "start_time": "2024-05-13T08:22:00.735726Z"
    }
   },
   "cell_type": "code",
   "source": [
    "with app.app_context():\n",
    "    db.session.delete(user1)\n",
    "    db.session.commit()"
   ],
   "id": "6c16954e1022ed55",
   "outputs": [],
   "execution_count": 8
  },
  {
   "metadata": {
    "ExecuteTime": {
     "end_time": "2024-05-13T08:22:01.881385Z",
     "start_time": "2024-05-13T08:22:01.859563Z"
    }
   },
   "cell_type": "code",
   "source": [
    "with app.app_context():\n",
    "    user2 = User(name='lisi', password='444', role=admin)\n",
    "    db.session.add(user2)\n",
    "    user3 = User(name='wangwu', password='555', role=user)\n",
    "    db.session.add(user3)\n",
    "    user4 = User(name='zhaoliu', password='666', role=user)\n",
    "    db.session.add(user4)\n",
    "    db.session.commit()"
   ],
   "id": "c636b26f60878780",
   "outputs": [],
   "execution_count": 9
  },
  {
   "metadata": {
    "ExecuteTime": {
     "end_time": "2024-05-13T08:22:13.016402Z",
     "start_time": "2024-05-13T08:22:13.009412Z"
    }
   },
   "cell_type": "code",
   "source": [
    "with app.app_context():\n",
    "    print(User.query.all())"
   ],
   "id": "8f58cef9d850b32f",
   "outputs": [
    {
     "name": "stdout",
     "output_type": "stream",
     "text": [
      "[<User 2>, <User 3>, <User 4>]\n"
     ]
    }
   ],
   "execution_count": 12
  },
  {
   "metadata": {
    "ExecuteTime": {
     "end_time": "2024-05-13T08:22:50.406955Z",
     "start_time": "2024-05-13T08:22:50.399251Z"
    }
   },
   "cell_type": "code",
   "source": [
    "with app.app_context():\n",
    "    print(User.query.get(2))"
   ],
   "id": "f884c0b7430f6f1d",
   "outputs": [
    {
     "name": "stdout",
     "output_type": "stream",
     "text": [
      "<User 2>\n"
     ]
    },
    {
     "name": "stderr",
     "output_type": "stream",
     "text": [
      "/tmp/ipykernel_50420/2212418037.py:2: LegacyAPIWarning: The Query.get() method is considered legacy as of the 1.x series of SQLAlchemy and becomes a legacy construct in 2.0. The method is now available as Session.get() (deprecated since: 2.0) (Background on SQLAlchemy 2.0 at: https://sqlalche.me/e/b8d9)\n",
      "  print(User.query.get(2))\n"
     ]
    }
   ],
   "execution_count": 15
  },
  {
   "metadata": {
    "ExecuteTime": {
     "end_time": "2024-05-13T08:23:10.727254Z",
     "start_time": "2024-05-13T08:23:10.719473Z"
    }
   },
   "cell_type": "code",
   "source": [
    "with app.app_context():\n",
    "    print(Role.query.get(1).name)"
   ],
   "id": "bafcc2e09b146956",
   "outputs": [
    {
     "name": "stdout",
     "output_type": "stream",
     "text": [
      "admin\n"
     ]
    },
    {
     "name": "stderr",
     "output_type": "stream",
     "text": [
      "/tmp/ipykernel_50420/2791883444.py:2: LegacyAPIWarning: The Query.get() method is considered legacy as of the 1.x series of SQLAlchemy and becomes a legacy construct in 2.0. The method is now available as Session.get() (deprecated since: 2.0) (Background on SQLAlchemy 2.0 at: https://sqlalche.me/e/b8d9)\n",
      "  print(Role.query.get(1).name)\n"
     ]
    }
   ],
   "execution_count": 16
  },
  {
   "metadata": {
    "ExecuteTime": {
     "end_time": "2024-05-13T08:24:36.906067Z",
     "start_time": "2024-05-13T08:24:36.884325Z"
    }
   },
   "cell_type": "code",
   "source": [
    "with app.app_context():\n",
    "    print(User.query.filter(User.id == 2).all())\n",
    "    print(User.query.filter(User.id > 2).all())\n",
    "    print(User.query.filter(User.name == 'lisi').all())\n",
    "    print(User.query.filter(User.name != 'lisi').all())"
   ],
   "id": "d1ed67d4eb08aacb",
   "outputs": [
    {
     "name": "stdout",
     "output_type": "stream",
     "text": [
      "[<User 2>]\n",
      "[<User 3>, <User 4>]\n",
      "[<User 2>]\n",
      "[<User 3>, <User 4>]\n"
     ]
    }
   ],
   "execution_count": 18
  },
  {
   "metadata": {
    "ExecuteTime": {
     "end_time": "2024-05-13T08:25:05.702350Z",
     "start_time": "2024-05-13T08:25:05.692794Z"
    }
   },
   "cell_type": "code",
   "source": [
    "with app.app_context():\n",
    "    print(User.query.filter(User.name.like('wang%')).all())"
   ],
   "id": "b3f3b9cda13b02aa",
   "outputs": [
    {
     "name": "stdout",
     "output_type": "stream",
     "text": [
      "[<User 3>]\n"
     ]
    }
   ],
   "execution_count": 19
  },
  {
   "metadata": {
    "ExecuteTime": {
     "end_time": "2024-05-13T08:25:33.060415Z",
     "start_time": "2024-05-13T08:25:33.045853Z"
    }
   },
   "cell_type": "code",
   "source": [
    "with app.app_context():\n",
    "    print(User.query.filter(User.name.in_(['zhangsan', 'lisi'])).all())\n",
    "    print(User.query.filter(~User.name.in_(['zhangsan', 'lisi'])).all())"
   ],
   "id": "fd948ff8e4537ac8",
   "outputs": [
    {
     "name": "stdout",
     "output_type": "stream",
     "text": [
      "[<User 2>]\n",
      "[<User 3>, <User 4>]\n"
     ]
    }
   ],
   "execution_count": 20
  },
  {
   "metadata": {
    "ExecuteTime": {
     "end_time": "2024-05-13T08:26:55.679695Z",
     "start_time": "2024-05-13T08:26:55.665010Z"
    }
   },
   "cell_type": "code",
   "source": [
    "with app.app_context():\n",
    "    print(User.query.filter(User.id > 2).filter(User.id < 4).all())\n",
    "    print(User.query.filter(User.id > 2, User.id < 4).all())\n",
    "    from sqlalchemy import and_\n",
    "    print(User.query.filter(and_(User.id > 2, User.id < 4)).all())"
   ],
   "id": "bd25adcccab16a9d",
   "outputs": [
    {
     "name": "stdout",
     "output_type": "stream",
     "text": [
      "[<User 3>]\n",
      "[<User 3>]\n",
      "[<User 3>]\n"
     ]
    }
   ],
   "execution_count": 21
  },
  {
   "metadata": {
    "ExecuteTime": {
     "end_time": "2024-05-13T08:26:56.965273Z",
     "start_time": "2024-05-13T08:26:56.954758Z"
    }
   },
   "cell_type": "code",
   "source": [
    "with app.app_context():\n",
    "    from sqlalchemy import or_\n",
    "    print(User.query.filter(or_(User.id > 3, User.id < 3)).all())"
   ],
   "id": "eb1ecc08abf9f77f",
   "outputs": [
    {
     "name": "stdout",
     "output_type": "stream",
     "text": [
      "[<User 2>, <User 4>]\n"
     ]
    }
   ],
   "execution_count": 22
  },
  {
   "metadata": {
    "ExecuteTime": {
     "end_time": "2024-05-13T08:27:40.567109Z",
     "start_time": "2024-05-13T08:27:40.547792Z"
    }
   },
   "cell_type": "code",
   "source": [
    "with app.app_context():\n",
    "    print(db.session.query(User).all())\n",
    "    print(db.session.query(User.name).all())\n",
    "    print(db.session.query(User.name).filter(User.name=='wangwu').all())\n",
    "    print(db.session.query(User.name).filter(User.id > 2).all())"
   ],
   "id": "8117a1ddb0d541d",
   "outputs": [
    {
     "name": "stdout",
     "output_type": "stream",
     "text": [
      "[<User 2>, <User 3>, <User 4>]\n",
      "[('lisi',), ('wangwu',), ('zhaoliu',)]\n",
      "[('wangwu',)]\n",
      "[('wangwu',), ('zhaoliu',)]\n"
     ]
    }
   ],
   "execution_count": 23
  }
 ],
 "metadata": {
  "kernelspec": {
   "display_name": "Python 3",
   "language": "python",
   "name": "python3"
  },
  "language_info": {
   "codemirror_mode": {
    "name": "ipython",
    "version": 2
   },
   "file_extension": ".py",
   "mimetype": "text/x-python",
   "name": "python",
   "nbconvert_exporter": "python",
   "pygments_lexer": "ipython2",
   "version": "2.7.6"
  }
 },
 "nbformat": 4,
 "nbformat_minor": 5
}
