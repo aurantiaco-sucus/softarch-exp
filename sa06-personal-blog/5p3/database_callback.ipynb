{
 "cells": [
  {
   "cell_type": "code",
   "id": "initial_id",
   "metadata": {
    "collapsed": true,
    "ExecuteTime": {
     "end_time": "2024-05-13T15:26:27.583260Z",
     "start_time": "2024-05-13T15:26:27.349270Z"
    }
   },
   "source": [
    "from manage import app\n",
    "from app import db\n",
    "from app.models import *"
   ],
   "execution_count": 1,
   "outputs": []
  },
  {
   "metadata": {
    "ExecuteTime": {
     "end_time": "2024-05-13T15:26:27.619136Z",
     "start_time": "2024-05-13T15:26:27.584582Z"
    }
   },
   "cell_type": "code",
   "source": [
    "with app.app_context():\n",
    "    test = Role(name='test')\n",
    "    user5 = User(name = 'maqi', role=test)\n",
    "    db.session.add(user5)\n",
    "    db.session.commit()"
   ],
   "id": "8117a1ddb0d541d",
   "execution_count": 2,
   "outputs": []
  },
  {
   "metadata": {
    "ExecuteTime": {
     "end_time": "2024-05-13T15:26:27.632261Z",
     "start_time": "2024-05-13T15:26:27.620214Z"
    }
   },
   "cell_type": "code",
   "source": [
    "with app.app_context():\n",
    "    user5.name = 'niuba'"
   ],
   "id": "a1a59a281bc6b2f9",
   "execution_count": 3,
   "outputs": []
  }
 ],
 "metadata": {
  "kernelspec": {
   "display_name": "Python 3",
   "language": "python",
   "name": "python3"
  },
  "language_info": {
   "codemirror_mode": {
    "name": "ipython",
    "version": 2
   },
   "file_extension": ".py",
   "mimetype": "text/x-python",
   "name": "python",
   "nbconvert_exporter": "python",
   "pygments_lexer": "ipython2",
   "version": "2.7.6"
  }
 },
 "nbformat": 4,
 "nbformat_minor": 5
}
